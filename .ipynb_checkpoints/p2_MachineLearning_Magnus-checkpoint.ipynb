{
 "cells": [
  {
   "cell_type": "markdown",
   "metadata": {},
   "source": [
    "# Text classification of tweets:"
   ]
  },
  {
   "cell_type": "code",
   "execution_count": 1,
   "metadata": {},
   "outputs": [
    {
     "name": "stderr",
     "output_type": "stream",
     "text": [
      "C:\\Users\\Magnu\\Anaconda3\\lib\\site-packages\\gensim\\utils.py:1197: UserWarning: detected Windows; aliasing chunkize to chunkize_serial\n",
      "  warnings.warn(\"detected Windows; aliasing chunkize to chunkize_serial\")\n",
      "C:\\Users\\Magnu\\Anaconda3\\lib\\importlib\\_bootstrap.py:219: RuntimeWarning: cymem.cymem.Pool size changed, may indicate binary incompatibility. Expected 48 from C header, got 64 from PyObject\n",
      "  return f(*args, **kwds)\n",
      "C:\\Users\\Magnu\\Anaconda3\\lib\\importlib\\_bootstrap.py:219: RuntimeWarning: cymem.cymem.Address size changed, may indicate binary incompatibility. Expected 24 from C header, got 40 from PyObject\n",
      "  return f(*args, **kwds)\n"
     ]
    }
   ],
   "source": [
    "import numpy as np\n",
    "import gensim\n",
    "from gensim.models import Word2Vec\n",
    "import csv\n",
    "import pandas as pd\n",
    "#import spacy\n",
    "import nltk\n",
    "from sklearn import naive_bayes as nb\n",
    "from sklearn.linear_model import LogisticRegression"
   ]
  },
  {
   "cell_type": "code",
   "execution_count": 2,
   "metadata": {},
   "outputs": [],
   "source": [
    "def open_file(fileName):\n",
    "    with open(str(fileName), \"r\", encoding=\"utf8\") as sample:\n",
    "        s = sample.readlines() \n",
    "    return s\n",
    "\n",
    "def create_X(list_of_tweets, w2v, features):\n",
    "    \n",
    "    X = np.zeros((len(list_of_tweets),features)) \n",
    "    \n",
    "    for indeks, tweet in enumerate(list_of_tweets):\n",
    "        for word in tweet:\n",
    "            try:\n",
    "                X[indeks,:] = X[indeks,:] + model_tot.wv[str(word)]\n",
    "            except:\n",
    "                pass\n",
    "        N = len(tweet)\n",
    "        if N>0:\n",
    "            X[indeks] = X[indeks]/N\n",
    "    return X\n",
    "\n",
    "def processTrainingData(list_of_tweets):\n",
    "    list_of_tweets = list(set(list_of_tweets)) # remove duplicates\n",
    "    list_of_tweets = [gensim.utils.simple_preprocess(line) for line in list_of_tweets] # simple preprocessing\n",
    "    return list_of_tweets\n",
    "\n",
    "def createWordEmbedding(list_of_tweets, features, epoc):\n",
    "    model = Word2Vec(list_of_tweets, size=features, window=5, min_count=1, workers=4)\n",
    "    model.train(list_of_tweets, total_examples=len(list_of_tweets), epochs=epoc)\n",
    "    return model\n",
    "\n",
    "def save_csv(fileName, test_y):\n",
    "    ids = np.arange(len(test_y))  \n",
    "    with open(fileName, 'w') as csvfile:\n",
    "        tempwriter = csv.writer(csvfile)\n",
    "        tempwriter.writerow([\"Id\",\"Prediction\"])\n",
    "        count = 0\n",
    "        for row in test_y:\n",
    "            if row == 0:\n",
    "                row = -1\n",
    "            tempwriter.writerow([(ids[count])+1,str(row)])\n",
    "            count = count + 1\n",
    "            \n",
    "def train(method, x, y, x_test):\n",
    "    met = method.fit(x,y)\n",
    "    test_y = met.predict(x_test)\n",
    "    return test_y"
   ]
  },
  {
   "cell_type": "code",
   "execution_count": 3,
   "metadata": {
    "scrolled": true
   },
   "outputs": [],
   "source": [
    "features = 350\n",
    "epoc = 50\n",
    "spos = open_file(\"train_pos.txt\")\n",
    "sneg = open_file(\"train_neg.txt\")\n",
    "\n",
    "spos = processTrainingData(spos)\n",
    "sneg = processTrainingData(sneg)\n",
    "\n",
    "y = [1]*len(spos)+[0]*len(sneg)\n",
    "\n",
    "stotal = spos+sneg\n",
    "\n",
    "model_tot = createWordEmbedding(stotal, features, epoc)\n",
    "\n",
    "X = create_X(stotal,model_tot, features) "
   ]
  },
  {
   "cell_type": "code",
   "execution_count": 4,
   "metadata": {},
   "outputs": [],
   "source": [
    "testd = open_file(\"test_data.txt\")\n",
    "testd = [gensim.utils.simple_preprocess(line) for line in testd]\n",
    "\n",
    "model_test = createWordEmbedding(testd, features, epoc)\n",
    "\n",
    "X_test = create_X(testd,model_test, features)"
   ]
  },
  {
   "cell_type": "code",
   "execution_count": 5,
   "metadata": {},
   "outputs": [],
   "source": [
    "# Build logistic regression classifiers to identify the polarity of words\n",
    "test_y = train(LogisticRegression(), X, y, X_test)\n",
    "\n",
    "# Build naive bayes classifiers to identify the polarity of words\n",
    "test_y_nb = train(nb.GaussianNB(), X, y, X_test) # this one isn't working"
   ]
  },
  {
   "cell_type": "code",
   "execution_count": 6,
   "metadata": {},
   "outputs": [],
   "source": [
    "save_csv('test_resultLR.csv', test_y)\n",
    "save_csv('test_resultNB.csv', test_y_nb)"
   ]
  },
  {
   "cell_type": "code",
   "execution_count": 7,
   "metadata": {},
   "outputs": [
    {
     "name": "stdout",
     "output_type": "stream",
     "text": [
      "Done\n"
     ]
    }
   ],
   "source": [
    "print('Done')"
   ]
  }
 ],
 "metadata": {
  "kernelspec": {
   "display_name": "Python 3",
   "language": "python",
   "name": "python3"
  },
  "language_info": {
   "codemirror_mode": {
    "name": "ipython",
    "version": 3
   },
   "file_extension": ".py",
   "mimetype": "text/x-python",
   "name": "python",
   "nbconvert_exporter": "python",
   "pygments_lexer": "ipython3",
   "version": "3.7.0"
  }
 },
 "nbformat": 4,
 "nbformat_minor": 2
}
