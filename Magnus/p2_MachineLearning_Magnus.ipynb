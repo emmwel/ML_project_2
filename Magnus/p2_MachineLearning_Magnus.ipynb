{
 "cells": [
  {
   "cell_type": "markdown",
   "metadata": {},
   "source": [
    "# Text classification of tweets:"
   ]
  },
  {
   "cell_type": "code",
   "execution_count": 1,
   "metadata": {},
   "outputs": [
    {
     "name": "stderr",
     "output_type": "stream",
     "text": [
      "C:\\Users\\Magnu\\Anaconda3\\lib\\site-packages\\gensim\\utils.py:1197: UserWarning: detected Windows; aliasing chunkize to chunkize_serial\n",
      "  warnings.warn(\"detected Windows; aliasing chunkize to chunkize_serial\")\n",
      "C:\\Users\\Magnu\\Anaconda3\\lib\\site-packages\\sklearn\\ensemble\\weight_boosting.py:29: DeprecationWarning: numpy.core.umath_tests is an internal NumPy module and should not be imported. It will be removed in a future NumPy release.\n",
      "  from numpy.core.umath_tests import inner1d\n"
     ]
    }
   ],
   "source": [
    "import numpy as np\n",
    "import gensim\n",
    "from gensim.models import Word2Vec\n",
    "import csv\n",
    "#import pandas as pd\n",
    "#import spacy\n",
    "#import nltk\n",
    "from sklearn import naive_bayes as nb\n",
    "from sklearn.linear_model import LogisticRegression\n",
    "from sklearn.model_selection import KFold\n",
    "from sklearn.model_selection import cross_validate\n",
    "from sklearn import linear_model\n",
    "from sklearn.linear_model import SGDClassifier\n",
    "\n",
    "from __future__ import print_function\n",
    "from sklearn.model_selection import train_test_split\n",
    "from sklearn.model_selection import GridSearchCV\n",
    "from sklearn.metrics import classification_report\n",
    "from sklearn.svm import SVC\n",
    "from sklearn import datasets, svm\n",
    "from scipy.stats import randint as sp_randint\n",
    "from sklearn.model_selection import RandomizedSearchCV\n",
    "from sklearn.datasets import load_digits\n",
    "from sklearn.ensemble import RandomForestClassifier\n",
    "\n",
    "from sklearn import preprocessing "
   ]
  },
  {
   "cell_type": "code",
   "execution_count": 2,
   "metadata": {},
   "outputs": [],
   "source": [
    "def open_file(fileName):\n",
    "    with open(str(fileName), \"r\", encoding=\"utf8\") as sample:\n",
    "        s = sample.readlines() \n",
    "    return s\n",
    "\n",
    "def create_X(list_of_tweets, w2v, features):\n",
    "    \n",
    "    # this function needs some love!\n",
    "    \n",
    "    X = np.zeros((len(list_of_tweets),features)) \n",
    "    \n",
    "    for indeks, tweet in enumerate(list_of_tweets):\n",
    "        for word in tweet:\n",
    "            try:\n",
    "                X[indeks,:] = X[indeks,:] + model_tot.wv[str(word)]\n",
    "            except:\n",
    "                pass\n",
    "        N = len(tweet)\n",
    "        if N>0:\n",
    "            X[indeks] = X[indeks]/N\n",
    "    return X\n",
    "\n",
    "def processTrainingData(list_of_tweets):\n",
    "    list_of_tweets = list(set(list_of_tweets)) # remove duplicate lines, should not be done for test-data\n",
    "    list_of_tweets = [gensim.utils.simple_preprocess(line) for line in list_of_tweets] # simple preprocessing\n",
    "    return list_of_tweets\n",
    "\n",
    "def createWordEmbedding(list_of_tweets, features, epoc):\n",
    "    model = Word2Vec(list_of_tweets, size=features, window=5, min_count=1, workers=4)\n",
    "    model.train(list_of_tweets, total_examples=len(list_of_tweets), epochs=epoc)\n",
    "    return model\n",
    "\n",
    "def save_csv(fileName, test_y):\n",
    "    ids = np.arange(len(test_y))  \n",
    "    with open(fileName, 'w') as csvfile:\n",
    "        tempwriter = csv.writer(csvfile)\n",
    "        tempwriter.writerow([\"Id\",\"Prediction\"])\n",
    "        count = 0\n",
    "        for row in test_y:\n",
    "            if row == 0:\n",
    "                row = -1\n",
    "            tempwriter.writerow([(ids[count])+1,str(row)])\n",
    "            count = count + 1\n",
    "            \n",
    "def train(method, x, y, x_test):\n",
    "    met = method.fit(x,y)\n",
    "    test_y = met.predict(x_test)\n",
    "    return test_y"
   ]
  },
  {
   "cell_type": "code",
   "execution_count": 3,
   "metadata": {
    "scrolled": true
   },
   "outputs": [],
   "source": [
    "features = 350\n",
    "epoc = 50\n",
    "spos = open_file(\"train_pos.txt\")\n",
    "sneg = open_file(\"train_neg.txt\")\n",
    "\n",
    "spos = processTrainingData(spos)\n",
    "sneg = processTrainingData(sneg)\n",
    "\n",
    "y = [1]*len(spos)+[0]*len(sneg)\n",
    "\n",
    "stotal = spos+sneg\n",
    "\n",
    "model_tot = createWordEmbedding(stotal, features, epoc)\n",
    "\n",
    "X = create_X(stotal,model_tot, features) \n",
    "X = preprocessing.scale(X)"
   ]
  },
  {
   "cell_type": "code",
   "execution_count": 4,
   "metadata": {},
   "outputs": [],
   "source": [
    "testd = open_file(\"test_data.txt\")\n",
    "testd = [gensim.utils.simple_preprocess(line) for line in testd]\n",
    "\n",
    "model_test = createWordEmbedding(testd, features, epoc)\n",
    "\n",
    "X_test = create_X(testd,model_test, features)"
   ]
  },
  {
   "cell_type": "code",
   "execution_count": 5,
   "metadata": {},
   "outputs": [],
   "source": [
    "# Build logistic regression classifiers to identify the polarity of words\n",
    "test_y = train(LogisticRegression(), X, y, X_test)\n",
    "\n",
    "# Build naive bayes classifiers to identify the polarity of words\n",
    "test_y_nb = train(nb.GaussianNB(), X, y, X_test) # this one isn't working"
   ]
  },
  {
   "cell_type": "code",
   "execution_count": 6,
   "metadata": {},
   "outputs": [
    {
     "name": "stdout",
     "output_type": "stream",
     "text": [
      "[0.75596036 0.75404113 0.75499264]\n"
     ]
    }
   ],
   "source": [
    "cv_results_lr = cross_validate(LogisticRegression(), X, y, return_train_score=False)\n",
    "print(cv_results_lr['test_score'])"
   ]
  },
  {
   "cell_type": "code",
   "execution_count": 7,
   "metadata": {},
   "outputs": [
    {
     "name": "stdout",
     "output_type": "stream",
     "text": [
      "[0.73266491 0.7332109  0.72921458]\n"
     ]
    }
   ],
   "source": [
    "clf = linear_model.SGDClassifier(max_iter=1000, tol=1e-3)\n",
    "\n",
    "cv_results_lr = cross_validate(clf, X, y, return_train_score=False)\n",
    "print(cv_results_lr['test_score'])"
   ]
  },
  {
   "cell_type": "code",
   "execution_count": 8,
   "metadata": {},
   "outputs": [],
   "source": [
    "save_csv('test_resultLR.csv', test_y)\n",
    "save_csv('test_resultNB.csv', test_y_nb)"
   ]
  },
  {
   "cell_type": "code",
   "execution_count": 9,
   "metadata": {},
   "outputs": [
    {
     "name": "stdout",
     "output_type": "stream",
     "text": [
      "Done\n"
     ]
    }
   ],
   "source": [
    "print('Done')"
   ]
  },
  {
   "cell_type": "code",
   "execution_count": null,
   "metadata": {},
   "outputs": [
    {
     "name": "stdout",
     "output_type": "stream",
     "text": [
      "# Tuning hyper-parameters for precision\n",
      "\n"
     ]
    }
   ],
   "source": [
    "\n",
    "'''\n",
    "#function from scikit:\n",
    "x_train, x_test, y_train, y_test = train_test_split(X, y, test_size=0.5, random_state=0)\n",
    "tuned_parameters = [{'kernel': ['rbf'], 'gamma': [1e-3, 1e-4],\n",
    "                     'C': [1, 10, 100, 1000]},\n",
    "                    {'kernel': ['linear'], 'C': [1, 10, 100, 1000]}]\n",
    "scores = ['precision', 'recall']\n",
    "for score in scores:\n",
    "    print(\"# Tuning hyper-parameters for %s\" % score)\n",
    "    print()\n",
    "\n",
    "    clf = GridSearchCV(SVC(), tuned_parameters, cv=5,\n",
    "                       scoring='%s_macro' % score)\n",
    "    clf.fit(x_train, y_train)\n",
    "\n",
    "    print(\"Best parameters set found on development set:\")\n",
    "    print()\n",
    "    print(clf.best_params_)\n",
    "    print()\n",
    "    print(\"Grid scores on development set:\")\n",
    "    print()\n",
    "    means = clf.cv_results_['mean_test_score']\n",
    "    stds = clf.cv_results_['std_test_score']\n",
    "    for mean, std, params in zip(means, stds, clf.cv_results_['params']):\n",
    "        print(\"%0.3f (+/-%0.03f) for %r\"\n",
    "              % (mean, std * 2, params))\n",
    "    print()\n",
    "\n",
    "    print(\"Detailed classification report:\")\n",
    "    print()\n",
    "    print(\"The model is trained on the full development set.\")\n",
    "    print(\"The scores are computed on the full evaluation set.\")\n",
    "    print()\n",
    "    y_true, y_pred = y_test, clf.predict(x_test)\n",
    "    print(classification_report(y_true, y_pred))\n",
    "    print()\n",
    "'''"
   ]
  },
  {
   "cell_type": "code",
   "execution_count": null,
   "metadata": {},
   "outputs": [],
   "source": []
  }
 ],
 "metadata": {
  "kernelspec": {
   "display_name": "Python 3",
   "language": "python",
   "name": "python3"
  },
  "language_info": {
   "codemirror_mode": {
    "name": "ipython",
    "version": 3
   },
   "file_extension": ".py",
   "mimetype": "text/x-python",
   "name": "python",
   "nbconvert_exporter": "python",
   "pygments_lexer": "ipython3",
   "version": "3.7.0"
  }
 },
 "nbformat": 4,
 "nbformat_minor": 2
}
