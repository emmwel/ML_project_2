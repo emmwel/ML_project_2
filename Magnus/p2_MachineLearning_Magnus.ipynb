{
 "cells": [
  {
   "cell_type": "markdown",
   "metadata": {},
   "source": [
    "# Text classification of tweets:"
   ]
  },
  {
   "cell_type": "code",
   "execution_count": 1,
   "metadata": {},
   "outputs": [
    {
     "name": "stderr",
     "output_type": "stream",
     "text": [
      "C:\\Users\\Magnu\\Anaconda3\\lib\\site-packages\\gensim\\utils.py:1197: UserWarning: detected Windows; aliasing chunkize to chunkize_serial\n",
      "  warnings.warn(\"detected Windows; aliasing chunkize to chunkize_serial\")\n",
      "C:\\Users\\Magnu\\Anaconda3\\lib\\site-packages\\sklearn\\ensemble\\weight_boosting.py:29: DeprecationWarning: numpy.core.umath_tests is an internal NumPy module and should not be imported. It will be removed in a future NumPy release.\n",
      "  from numpy.core.umath_tests import inner1d\n"
     ]
    }
   ],
   "source": [
    "import numpy as np\n",
    "import gensim\n",
    "from gensim.models import Word2Vec\n",
    "from gensim.models import Doc2Vec\n",
    "import csv\n",
    "#import pandas as pd\n",
    "#import spacy\n",
    "#import nltk\n",
    "from sklearn import naive_bayes as nb\n",
    "from sklearn.linear_model import LogisticRegression\n",
    "from sklearn.model_selection import KFold\n",
    "from sklearn.model_selection import cross_validate\n",
    "from sklearn import linear_model\n",
    "from sklearn.linear_model import SGDClassifier\n",
    "\n",
    "from __future__ import print_function\n",
    "from sklearn.model_selection import train_test_split\n",
    "from sklearn.model_selection import GridSearchCV\n",
    "from sklearn.metrics import classification_report\n",
    "from sklearn.svm import SVC\n",
    "from sklearn import datasets, svm\n",
    "from scipy.stats import randint as sp_randint\n",
    "from sklearn.model_selection import RandomizedSearchCV\n",
    "from sklearn.datasets import load_digits\n",
    "from sklearn.ensemble import RandomForestClassifier\n",
    "from sklearn import preprocessing "
   ]
  },
  {
   "cell_type": "code",
   "execution_count": 2,
   "metadata": {},
   "outputs": [],
   "source": [
    "def open_file(fileName):\n",
    "    with open(str(fileName), \"r\", encoding=\"utf8\") as sample:\n",
    "        s = sample.readlines() \n",
    "    return s\n",
    "\n",
    "def create_X(list_of_tweets, w2v, features):\n",
    "    \n",
    "    # this function needs some love!\n",
    "    \n",
    "    X = np.zeros((len(list_of_tweets),features)) \n",
    "    \n",
    "    for indeks, tweet in enumerate(list_of_tweets):\n",
    "        for word in tweet:\n",
    "            try:\n",
    "                X[indeks,:] = X[indeks,:] + model_tot.wv[str(word)]\n",
    "            except:\n",
    "                pass\n",
    "        N = len(tweet)\n",
    "        if N>0:\n",
    "            X[indeks] = X[indeks]/N\n",
    "    return X\n",
    "\n",
    "def processTrainingData(list_of_tweets):\n",
    "    list_of_tweets = list(set(list_of_tweets)) # remove duplicate lines, should not be done for test-data\n",
    "    list_of_tweets = [gensim.utils.simple_preprocess(line) for line in list_of_tweets] # simple preprocessing\n",
    "    return list_of_tweets\n",
    "\n",
    "def createWordEmbedding(list_of_tweets, features, epoc):\n",
    "    model = Word2Vec(list_of_tweets, size=features, window=5, min_count=1, workers=4)\n",
    "    model.train(list_of_tweets, total_examples=len(list_of_tweets), epochs=epoc)\n",
    "    return model\n",
    "\n",
    "def createSentEmbedding(list_of_tweets, features, epoc):\n",
    "    model = Doc2Vec(list_of_tweets, size=features, min_count=1)\n",
    "    model.train(list_of_tweets, total_examples=len(list_of_tweets), epochs=epoc)\n",
    "    return model\n",
    "\n",
    "def save_csv(fileName, test_y):\n",
    "    ids = np.arange(len(test_y))  \n",
    "    with open(fileName, 'w') as csvfile:\n",
    "        tempwriter = csv.writer(csvfile)\n",
    "        tempwriter.writerow([\"Id\",\"Prediction\"])\n",
    "        count = 0\n",
    "        for row in test_y:\n",
    "            if row == 0:\n",
    "                row = -1\n",
    "            tempwriter.writerow([(ids[count])+1,str(row)])\n",
    "            count = count + 1\n",
    "            \n",
    "def train(method, x, y, x_test):\n",
    "    met = method.fit(x,y)\n",
    "    test_y = met.predict(x_test)\n",
    "    return test_y"
   ]
  },
  {
   "cell_type": "code",
   "execution_count": 3,
   "metadata": {
    "scrolled": true
   },
   "outputs": [
    {
     "name": "stdout",
     "output_type": "stream",
     "text": [
      "ferdig med trening-ish\n"
     ]
    }
   ],
   "source": [
    "features = 60\n",
    "epoch = 20\n",
    "positive_tweets = open_file(\"train_pos.txt\")\n",
    "negative_tweets = open_file(\"train_neg.txt\")\n",
    "\n",
    "positive_tweets = processTrainingData(positive_tweets)\n",
    "negative_tweets = processTrainingData(negative_tweets)\n",
    "\n",
    "y = [1]*len(positive_tweets)+[0]*len(negative_tweets)\n",
    "\n",
    "all_tweets = positive_tweets+negative_tweets #list of tweets\n",
    "\n",
    "model_tot = createWordEmbedding(all_tweets, features, epoch) #word embedding\n",
    "\n",
    "X = create_X(all_tweets,model_tot, features) \n",
    "print('ferdig med trening-ish')"
   ]
  },
  {
   "cell_type": "code",
   "execution_count": 4,
   "metadata": {},
   "outputs": [],
   "source": [
    "testd = open_file(\"test_data.txt\")\n",
    "testd = [gensim.utils.simple_preprocess(line) for line in testd]\n",
    "\n",
    "model_test = createWordEmbedding(testd, features, epoch)\n",
    "\n"
   ]
  },
  {
   "cell_type": "code",
   "execution_count": 5,
   "metadata": {},
   "outputs": [],
   "source": [
    "X = preprocessing.scale(X)\n",
    "X_test = create_X(testd,model_test, features)\n",
    "X_test = preprocessing.scale(X_test)\n",
    "# Build logistic regression classifiers to identify the polarity of words\n",
    "test_y = train(LogisticRegression(), X, y, X_test)\n",
    "\n",
    "# Build naive bayes classifiers to identify the polarity of words\n",
    "#test_y_nb = train(nb.GaussianNB(), X, y, X_test) # this one isn't working"
   ]
  },
  {
   "cell_type": "code",
   "execution_count": 6,
   "metadata": {},
   "outputs": [],
   "source": [
    "save_csv('test_resultLR.csv', test_y)\n",
    "#save_csv('test_resultNB.csv', test_y_nb)\n"
   ]
  },
  {
   "cell_type": "markdown",
   "metadata": {},
   "source": [
    "## Doing some cross validation:"
   ]
  },
  {
   "cell_type": "code",
   "execution_count": 9,
   "metadata": {},
   "outputs": [
    {
     "name": "stdout",
     "output_type": "stream",
     "text": [
      "[0.69894608 0.6963816  0.69868793]\n",
      "[0.71021327 0.71013054 0.70990586]\n"
     ]
    }
   ],
   "source": [
    "clf = linear_model.SGDClassifier(max_iter=500, tol=1e-3)\n",
    "\n",
    "cv_results_clf = cross_validate(clf, X, y, return_train_score=False)\n",
    "print(cv_results_clf['test_score'])\n",
    "\n",
    "cv_results_lr = cross_validate(LogisticRegression(), X, y, return_train_score=False)\n",
    "print(cv_results_lr['test_score'])\n",
    "\n",
    "#cv_results_nb = cross_validate(nb.GaussianNB(), X, y, return_train_score=False)\n",
    "#print(cv_results_nb['test_score'])"
   ]
  },
  {
   "cell_type": "code",
   "execution_count": 8,
   "metadata": {},
   "outputs": [
    {
     "name": "stdout",
     "output_type": "stream",
     "text": [
      "Done\n"
     ]
    }
   ],
   "source": [
    "print('Done')"
   ]
  },
  {
   "cell_type": "code",
   "execution_count": null,
   "metadata": {},
   "outputs": [],
   "source": []
  }
 ],
 "metadata": {
  "kernelspec": {
   "display_name": "Python 3",
   "language": "python",
   "name": "python3"
  },
  "language_info": {
   "codemirror_mode": {
    "name": "ipython",
    "version": 3
   },
   "file_extension": ".py",
   "mimetype": "text/x-python",
   "name": "python",
   "nbconvert_exporter": "python",
   "pygments_lexer": "ipython3",
   "version": "3.7.0"
  }
 },
 "nbformat": 4,
 "nbformat_minor": 2
}
